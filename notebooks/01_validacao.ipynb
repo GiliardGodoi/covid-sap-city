{
 "cells": [
  {
   "cell_type": "markdown",
   "metadata": {},
   "source": [
    "# Validação dos dados\n",
    "\n",
    "## Introdução\n",
    "\n",
    "Trata-se da validação dos dados dos boletins diários sobre infecções pela Covid-19, publicados pela Prefeitura Municipal de Santo Antônio da Platina em seu site <https://www.santoantoniodaplatina.pr.gov.br/>. \n",
    "\n",
    "O primeiro boletim foi publicado em 15/04/2020. \n",
    "\n",
    "Foram adotados pelos menos três modelos de boletins para divulgações das informações.\n",
    "\n",
    "O primeiro modelo continha informações sobre: casos confirmados, descartados, sem coleta e em investigação. \n",
    "Por sua vez, esses atributos eram subdivididos em pelo menos três diferentes tipos de definições de casos: casos suspeitos com exames coletados; casos suspeitos Síndrome Gripal sem coleta de exames (Isolamento domiciliar); casos suspeitos pacientes internados do próprio Município.\n",
    "\n",
    "Esse modelo foi utilizado pelo menos entre as datas 15/04/2020 até 01/06/2020. Ressaltasse que nesse período os boletins não eram rigorosamente diários.\n",
    "\n",
    "Um segundo modelo foi adotado, pelo menos, entre 02/06/2020 até 02/07/2020.\n",
    "Em um primeiro momento continha dados sobre: casos em investigação; descartados; confirmados; recuperados e óbitos. \n",
    "Em um segundo momento passou a incluir os casos ativos.\n",
    "\n",
    "Nesses dois primeiros modelos também é apresentado o horário de atualização dos dados.\n",
    "\n",
    "Em 03/07/2020 é adotado o modelo atual que apresenta os seguintes dados: descartados; em investigação; confirmados; examinados; recuperados; ativos; desse último subdivide os caso em hospital e domicílio; número de óbitos; casos examinados e novamente, em maior destaque, os casos confirmados.\n",
    "\n",
    "Esse último modelo possui uma arte (com cores, diagramação e imagens de fundo) mais elaborada do que as versões anteriores. \n",
    "Pressupõe-se disso que o principal objetivo desse modelo de boletim é ser oferecer uma comunicação direta com o cidadão que poderia distribuir esses boletins através de suas próprias mídias sociais (Whatsapp, Facebook, etc.).\n",
    "Tanto que a partir de 09/07/2020, esses boletins são disponibilizados em formatos de imagens com extensão .jpeg e não mais como arquivos na extensão .pdf.\n",
    "\n",
    "Esses boletins também são disponibilizados como pop-up na página inicial da Prefeitura Municipal.\n",
    "\n",
    "Entretanto, não foi possível localizar uma explicação mais detalhadas sobre os dados informados. \n",
    "Desta forma, para as validações que se seguem são feitas assumindo-se algumas condições, que são explicadas a seguir.\n",
    "Por isso preferiu-se restringir aos dados apresentados apenas conforme um único modelo.\n",
    "Uma tentativa de unir os dados poderia introduzir algum tipo de confusão e também de dados faltantes.\n",
    "\n",
    "Os dados tratados a seguir se referem àqueles apresentados conforme o terceiro modelo do boletim, publicados entre os dias 03/07/2020 e 31/12/2020."
   ]
  },
  {
   "cell_type": "markdown",
   "metadata": {},
   "source": [
    "## Materiais e métodos\n",
    "\n",
    "Os dados tratados a seguir são aqueles publicados entre os dias 03/07/2020 e 31/12/2020.\n",
    "\n",
    "A coleta dos dados se deu de forma manual, uma vez que a maioria dos boletins é disponibilizada em formato de imagem (extesão jpeg) não permitindo a leitura de forma automática por máquina.\n",
    "Não foi possível encontrar os dados em formatos abertos tais como, csv ou até mesmo por meio de planilhas eletrônicas.\n",
    "\n",
    "A análise é executada utilizando a linguagem de Programação Python (versão 3.8) o software de gerenciamento de pacotes Anaconda (<https://anaconda.org/>) e as análises são feitas no ambiente Jupyter Notebook (<https://jupyter.org/>).\n",
    "\n",
    "Foram utilizados as bibliotecas Numpy, Pandas, ```matplotlib``` e Seaborn nessa fase de análise. Maiores detalhes sobre outros pacotes utilizados podem ser encontradas no arquivo ```requeriments.txt```."
   ]
  },
  {
   "cell_type": "code",
   "execution_count": 1,
   "metadata": {},
   "outputs": [],
   "source": [
    "import os\n",
    "from os import path\n",
    "from datetime import datetime\n",
    "\n",
    "import numpy as np\n",
    "import pandas as pd"
   ]
  },
  {
   "cell_type": "code",
   "execution_count": 2,
   "metadata": {},
   "outputs": [],
   "source": [
    "# import pandas_profiling"
   ]
  },
  {
   "cell_type": "code",
   "execution_count": 3,
   "metadata": {},
   "outputs": [],
   "source": [
    "from matplotlib import pyplot as plt\n",
    "import seaborn as sns"
   ]
  },
  {
   "cell_type": "code",
   "execution_count": 4,
   "metadata": {},
   "outputs": [
    {
     "name": "stdout",
     "output_type": "stream",
     "text": [
      "..\\data\\raw\\BOLETIM_DIARIO_CORONAVIRUS_SAP.xlsx True\n"
     ]
    }
   ],
   "source": [
    "# definição do arquivo com a base de dados\n",
    "filename = path.join('..', 'data', 'raw', 'BOLETIM_DIARIO_CORONAVIRUS_SAP.xlsx')\n",
    "\n",
    "print(filename, path.exists(filename))"
   ]
  },
  {
   "cell_type": "code",
   "execution_count": 5,
   "metadata": {
    "scrolled": true
   },
   "outputs": [],
   "source": [
    "# Leitura da base de dados\n",
    "\n",
    "# help(pd.read_excel)\n",
    "frame = pd.read_excel(filename,\n",
    "                   index_col=\"DATA\",\n",
    "                   parse_dates=['DATA'],\n",
    "                   engine='openpyxl')"
   ]
  },
  {
   "cell_type": "code",
   "execution_count": 6,
   "metadata": {},
   "outputs": [],
   "source": [
    "# Verifica a data do primeiro registro na tabela de dados 03/07/2020\n",
    "assert frame.index[0].month == 7, \"Problema ao converter datas: o primeiro registro é de julho.\"\n",
    "assert frame.index[0].day == 3, \"Problema ao converter datas: primeiro registro deveria ser 03/07/2020\"\n",
    "\n",
    "# assert frame.index[-1].month == 1, \"janeiro 2021\"\n",
    "# assert frame.index[-1].day == 31, \"Problema ao converter datas: o último registro é 31/12/2020\""
   ]
  },
  {
   "cell_type": "code",
   "execution_count": 7,
   "metadata": {},
   "outputs": [
    {
     "data": {
      "text/plain": [
       "(362, 9)"
      ]
     },
     "execution_count": 7,
     "metadata": {},
     "output_type": "execute_result"
    }
   ],
   "source": [
    "## Quantidade de registros na tabela (linhas X colunas)\n",
    "frame.shape"
   ]
  },
  {
   "cell_type": "code",
   "execution_count": 8,
   "metadata": {},
   "outputs": [
    {
     "name": "stdout",
     "output_type": "stream",
     "text": [
      "<class 'pandas.core.frame.DataFrame'>\n",
      "DatetimeIndex: 362 entries, 2020-07-03 to 2021-06-29\n",
      "Data columns (total 9 columns):\n",
      " #   Column           Non-Null Count  Dtype\n",
      "---  ------           --------------  -----\n",
      " 0   DESCARTADOS      362 non-null    int64\n",
      " 1   EM INVESTIGACAO  362 non-null    int64\n",
      " 2   CONFIRMADOS      362 non-null    int64\n",
      " 3   EXAMINADOS       362 non-null    int64\n",
      " 4   RECUPERADOS      362 non-null    int64\n",
      " 5   ATIVOS           362 non-null    int64\n",
      " 6   HOSPITAL         362 non-null    int64\n",
      " 7   DOMICILIO        362 non-null    int64\n",
      " 8   OBITOS           362 non-null    int64\n",
      "dtypes: int64(9)\n",
      "memory usage: 28.3 KB\n"
     ]
    }
   ],
   "source": [
    "# Informações básicas do conjunto de dados.\n",
    "##      - Nomes da colunas\n",
    "##      - Quantidade de registros não nulos \n",
    "##      - tipo de dado em cada coluna. No caso inteiro de 64bit.\n",
    "\n",
    "frame.info()"
   ]
  },
  {
   "cell_type": "code",
   "execution_count": 9,
   "metadata": {},
   "outputs": [
    {
     "data": {
      "text/plain": [
       "DESCARTADOS        0\n",
       "EM INVESTIGACAO    0\n",
       "CONFIRMADOS        0\n",
       "EXAMINADOS         0\n",
       "RECUPERADOS        0\n",
       "ATIVOS             0\n",
       "HOSPITAL           0\n",
       "DOMICILIO          0\n",
       "OBITOS             0\n",
       "dtype: int64"
      ]
     },
     "execution_count": 9,
     "metadata": {},
     "output_type": "execute_result"
    }
   ],
   "source": [
    "## Outra forma de confirmar a quantidade de registros nulos (e não nulos)\n",
    "frame.isnull().sum()"
   ]
  },
  {
   "cell_type": "markdown",
   "metadata": {},
   "source": [
    "## Considerações sobre os atributos\n",
    "\n",
    "Todos os atributos são numéricos e, por se tratarem de uma contagem, o domínio dos atributos vão ser o conjunto dos números naturais (0, 1, 2, 3...).\n",
    "\n",
    "Alguns atributos são acumulativos isto é, no seu valor está condita a soma dos dias anteriores. Enquanto outros atributos representam o estado naquele dia.\n",
    "\n",
    "Os atributos acumulativos são:\n",
    "\n",
    "    DESCARTADOS\n",
    "    CONFIRMADOS\n",
    "    EXAMINADOS\n",
    "    RECUPERADOS\n",
    "    OBITOS\n",
    "    \n",
    "Atributos que representam um estado de determinado dia são:\n",
    "\n",
    "    EM INVESTIGACAO\n",
    "    ATIVOS\n",
    "    HOSPITAL \n",
    "    DOMICILIO\n",
    "    \n",
    "    \n",
    "Algumas relações entre esses atributos são esperadas, por exemplo:\n",
    "\n",
    "1. Que o número casos ativos (ATIVOS) seja igual a soma dos atributos HOSPITAL e DOMICILIO, para determinada data;\n",
    "2. Que o número de casos examinados (atributo EXAMINADOS) seja igual a soma dos valores em DESCARTADOS, CONFIRMADOS e EM INVESTIGACAO;\n",
    "3. Que o valor do atributo CONFIRMADOS seja igual a soma dos atributos RECUPERADOS, OBTIOS, e ATIVOS;\n",
    "\n",
    "Nos dois últimos itens é existe uma relação entre atributos cumulativos e atributos que representam um estado para determinado dia. A natureza desses atributos são diferentes e talvez a soma direta desses atributos pode não ser possível ou representar um resultado equivocado.\n",
    "\n",
    "Porém o número de casos EM INVESTIGACAO possuem apenas dois resultados possíveis: DESCARTADOS ou CONFIRMADOS. Igualmente os casos enquadrados como ATIVOS, só terão dois resultados possíveis: RECUPERADOS e OBITOS."
   ]
  },
  {
   "cell_type": "code",
   "execution_count": 10,
   "metadata": {},
   "outputs": [
    {
     "data": {
      "text/html": [
       "<div>\n",
       "<style scoped>\n",
       "    .dataframe tbody tr th:only-of-type {\n",
       "        vertical-align: middle;\n",
       "    }\n",
       "\n",
       "    .dataframe tbody tr th {\n",
       "        vertical-align: top;\n",
       "    }\n",
       "\n",
       "    .dataframe thead th {\n",
       "        text-align: right;\n",
       "    }\n",
       "</style>\n",
       "<table border=\"1\" class=\"dataframe\">\n",
       "  <thead>\n",
       "    <tr style=\"text-align: right;\">\n",
       "      <th></th>\n",
       "      <th>DESCARTADOS</th>\n",
       "      <th>EM INVESTIGACAO</th>\n",
       "      <th>CONFIRMADOS</th>\n",
       "      <th>EXAMINADOS</th>\n",
       "      <th>RECUPERADOS</th>\n",
       "      <th>ATIVOS</th>\n",
       "      <th>HOSPITAL</th>\n",
       "      <th>DOMICILIO</th>\n",
       "      <th>OBITOS</th>\n",
       "    </tr>\n",
       "    <tr>\n",
       "      <th>DATA</th>\n",
       "      <th></th>\n",
       "      <th></th>\n",
       "      <th></th>\n",
       "      <th></th>\n",
       "      <th></th>\n",
       "      <th></th>\n",
       "      <th></th>\n",
       "      <th></th>\n",
       "      <th></th>\n",
       "    </tr>\n",
       "  </thead>\n",
       "  <tbody>\n",
       "    <tr>\n",
       "      <th>2020-07-03</th>\n",
       "      <td>690</td>\n",
       "      <td>263</td>\n",
       "      <td>105</td>\n",
       "      <td>1058</td>\n",
       "      <td>63</td>\n",
       "      <td>38</td>\n",
       "      <td>3</td>\n",
       "      <td>35</td>\n",
       "      <td>4</td>\n",
       "    </tr>\n",
       "    <tr>\n",
       "      <th>2020-07-04</th>\n",
       "      <td>709</td>\n",
       "      <td>251</td>\n",
       "      <td>109</td>\n",
       "      <td>1069</td>\n",
       "      <td>65</td>\n",
       "      <td>43</td>\n",
       "      <td>3</td>\n",
       "      <td>40</td>\n",
       "      <td>4</td>\n",
       "    </tr>\n",
       "    <tr>\n",
       "      <th>2020-07-05</th>\n",
       "      <td>711</td>\n",
       "      <td>252</td>\n",
       "      <td>110</td>\n",
       "      <td>1073</td>\n",
       "      <td>71</td>\n",
       "      <td>35</td>\n",
       "      <td>3</td>\n",
       "      <td>32</td>\n",
       "      <td>4</td>\n",
       "    </tr>\n",
       "    <tr>\n",
       "      <th>2020-07-06</th>\n",
       "      <td>722</td>\n",
       "      <td>293</td>\n",
       "      <td>121</td>\n",
       "      <td>1136</td>\n",
       "      <td>79</td>\n",
       "      <td>38</td>\n",
       "      <td>2</td>\n",
       "      <td>36</td>\n",
       "      <td>4</td>\n",
       "    </tr>\n",
       "    <tr>\n",
       "      <th>2020-07-07</th>\n",
       "      <td>794</td>\n",
       "      <td>264</td>\n",
       "      <td>126</td>\n",
       "      <td>1184</td>\n",
       "      <td>85</td>\n",
       "      <td>37</td>\n",
       "      <td>4</td>\n",
       "      <td>33</td>\n",
       "      <td>4</td>\n",
       "    </tr>\n",
       "  </tbody>\n",
       "</table>\n",
       "</div>"
      ],
      "text/plain": [
       "            DESCARTADOS  EM INVESTIGACAO  CONFIRMADOS  EXAMINADOS  \\\n",
       "DATA                                                                \n",
       "2020-07-03          690              263          105        1058   \n",
       "2020-07-04          709              251          109        1069   \n",
       "2020-07-05          711              252          110        1073   \n",
       "2020-07-06          722              293          121        1136   \n",
       "2020-07-07          794              264          126        1184   \n",
       "\n",
       "            RECUPERADOS  ATIVOS  HOSPITAL  DOMICILIO  OBITOS  \n",
       "DATA                                                          \n",
       "2020-07-03           63      38         3         35       4  \n",
       "2020-07-04           65      43         3         40       4  \n",
       "2020-07-05           71      35         3         32       4  \n",
       "2020-07-06           79      38         2         36       4  \n",
       "2020-07-07           85      37         4         33       4  "
      ]
     },
     "execution_count": 10,
     "metadata": {},
     "output_type": "execute_result"
    }
   ],
   "source": [
    "# Cinco primeiras linhas do conjunto de dados.\n",
    "frame.head()"
   ]
  },
  {
   "cell_type": "code",
   "execution_count": 11,
   "metadata": {},
   "outputs": [
    {
     "data": {
      "text/plain": [
       "False"
      ]
     },
     "execution_count": 11,
     "metadata": {},
     "output_type": "execute_result"
    }
   ],
   "source": [
    "## Verifica se em todas as linhas o número de casos hospitalizados somados aos casos em domicílio \n",
    "# é igual ao número de casos ativos\n",
    "# 'True' significa que essa afirmação é verdadeira.\n",
    "all(frame['ATIVOS'] == frame['HOSPITAL'] + frame['DOMICILIO'])"
   ]
  },
  {
   "cell_type": "code",
   "execution_count": 12,
   "metadata": {},
   "outputs": [
    {
     "data": {
      "text/plain": [
       "False"
      ]
     },
     "execution_count": 12,
     "metadata": {},
     "output_type": "execute_result"
    }
   ],
   "source": [
    "## Verifica se em todas as linhas se a soma dos casos descartados, confirmados e em investigação\n",
    "# é igual a quantidade de casos examinados.\n",
    "# 'False' significa que essa afirmação é falsa.\n",
    "all(frame['EXAMINADOS'] == frame['DESCARTADOS'] + frame['CONFIRMADOS'] + frame['EM INVESTIGACAO'])"
   ]
  },
  {
   "cell_type": "code",
   "execution_count": 13,
   "metadata": {},
   "outputs": [
    {
     "data": {
      "text/html": [
       "<div>\n",
       "<style scoped>\n",
       "    .dataframe tbody tr th:only-of-type {\n",
       "        vertical-align: middle;\n",
       "    }\n",
       "\n",
       "    .dataframe tbody tr th {\n",
       "        vertical-align: top;\n",
       "    }\n",
       "\n",
       "    .dataframe thead th {\n",
       "        text-align: right;\n",
       "    }\n",
       "</style>\n",
       "<table border=\"1\" class=\"dataframe\">\n",
       "  <thead>\n",
       "    <tr style=\"text-align: right;\">\n",
       "      <th></th>\n",
       "      <th>DESCARTADOS</th>\n",
       "      <th>EM INVESTIGACAO</th>\n",
       "      <th>CONFIRMADOS</th>\n",
       "      <th>EXAMINADOS</th>\n",
       "      <th>RECUPERADOS</th>\n",
       "      <th>ATIVOS</th>\n",
       "      <th>HOSPITAL</th>\n",
       "      <th>DOMICILIO</th>\n",
       "      <th>OBITOS</th>\n",
       "    </tr>\n",
       "    <tr>\n",
       "      <th>DATA</th>\n",
       "      <th></th>\n",
       "      <th></th>\n",
       "      <th></th>\n",
       "      <th></th>\n",
       "      <th></th>\n",
       "      <th></th>\n",
       "      <th></th>\n",
       "      <th></th>\n",
       "      <th></th>\n",
       "    </tr>\n",
       "  </thead>\n",
       "  <tbody>\n",
       "    <tr>\n",
       "      <th>2020-09-08</th>\n",
       "      <td>2221</td>\n",
       "      <td>27</td>\n",
       "      <td>322</td>\n",
       "      <td>2569</td>\n",
       "      <td>306</td>\n",
       "      <td>9</td>\n",
       "      <td>0</td>\n",
       "      <td>9</td>\n",
       "      <td>7</td>\n",
       "    </tr>\n",
       "    <tr>\n",
       "      <th>2020-10-25</th>\n",
       "      <td>2690</td>\n",
       "      <td>21</td>\n",
       "      <td>364</td>\n",
       "      <td>3073</td>\n",
       "      <td>352</td>\n",
       "      <td>3</td>\n",
       "      <td>0</td>\n",
       "      <td>3</td>\n",
       "      <td>9</td>\n",
       "    </tr>\n",
       "    <tr>\n",
       "      <th>2021-03-03</th>\n",
       "      <td>6063</td>\n",
       "      <td>255</td>\n",
       "      <td>1471</td>\n",
       "      <td>7759</td>\n",
       "      <td>1247</td>\n",
       "      <td>191</td>\n",
       "      <td>8</td>\n",
       "      <td>183</td>\n",
       "      <td>33</td>\n",
       "    </tr>\n",
       "    <tr>\n",
       "      <th>2021-04-10</th>\n",
       "      <td>8443</td>\n",
       "      <td>199</td>\n",
       "      <td>2948</td>\n",
       "      <td>11580</td>\n",
       "      <td>2446</td>\n",
       "      <td>431</td>\n",
       "      <td>23</td>\n",
       "      <td>408</td>\n",
       "      <td>71</td>\n",
       "    </tr>\n",
       "    <tr>\n",
       "      <th>2021-06-03</th>\n",
       "      <td>11140</td>\n",
       "      <td>107</td>\n",
       "      <td>5139</td>\n",
       "      <td>16486</td>\n",
       "      <td>4435</td>\n",
       "      <td>591</td>\n",
       "      <td>25</td>\n",
       "      <td>566</td>\n",
       "      <td>113</td>\n",
       "    </tr>\n",
       "    <tr>\n",
       "      <th>2021-06-14</th>\n",
       "      <td>11796</td>\n",
       "      <td>140</td>\n",
       "      <td>5564</td>\n",
       "      <td>17496</td>\n",
       "      <td>5060</td>\n",
       "      <td>382</td>\n",
       "      <td>24</td>\n",
       "      <td>358</td>\n",
       "      <td>122</td>\n",
       "    </tr>\n",
       "  </tbody>\n",
       "</table>\n",
       "</div>"
      ],
      "text/plain": [
       "            DESCARTADOS  EM INVESTIGACAO  CONFIRMADOS  EXAMINADOS  \\\n",
       "DATA                                                                \n",
       "2020-09-08         2221               27          322        2569   \n",
       "2020-10-25         2690               21          364        3073   \n",
       "2021-03-03         6063              255         1471        7759   \n",
       "2021-04-10         8443              199         2948       11580   \n",
       "2021-06-03        11140              107         5139       16486   \n",
       "2021-06-14        11796              140         5564       17496   \n",
       "\n",
       "            RECUPERADOS  ATIVOS  HOSPITAL  DOMICILIO  OBITOS  \n",
       "DATA                                                          \n",
       "2020-09-08          306       9         0          9       7  \n",
       "2020-10-25          352       3         0          3       9  \n",
       "2021-03-03         1247     191         8        183      33  \n",
       "2021-04-10         2446     431        23        408      71  \n",
       "2021-06-03         4435     591        25        566     113  \n",
       "2021-06-14         5060     382        24        358     122  "
      ]
     },
     "execution_count": 13,
     "metadata": {},
     "output_type": "execute_result"
    }
   ],
   "source": [
    "## Verifica em quais linhas (registros) a afirmação anterior não é verdadeira.\n",
    "\n",
    "idx = frame['EXAMINADOS'] == (frame['DESCARTADOS'] + frame['CONFIRMADOS'] + frame['EM INVESTIGACAO'])\n",
    "\n",
    "frame[~idx]"
   ]
  },
  {
   "cell_type": "code",
   "execution_count": 14,
   "metadata": {},
   "outputs": [
    {
     "data": {
      "text/html": [
       "<div>\n",
       "<style scoped>\n",
       "    .dataframe tbody tr th:only-of-type {\n",
       "        vertical-align: middle;\n",
       "    }\n",
       "\n",
       "    .dataframe tbody tr th {\n",
       "        vertical-align: top;\n",
       "    }\n",
       "\n",
       "    .dataframe thead th {\n",
       "        text-align: right;\n",
       "    }\n",
       "</style>\n",
       "<table border=\"1\" class=\"dataframe\">\n",
       "  <thead>\n",
       "    <tr style=\"text-align: right;\">\n",
       "      <th></th>\n",
       "      <th>SOMA_DES_CON_INV</th>\n",
       "      <th>EXAMINADOS</th>\n",
       "      <th>DIFF_</th>\n",
       "    </tr>\n",
       "    <tr>\n",
       "      <th>DATA</th>\n",
       "      <th></th>\n",
       "      <th></th>\n",
       "      <th></th>\n",
       "    </tr>\n",
       "  </thead>\n",
       "  <tbody>\n",
       "    <tr>\n",
       "      <th>2020-09-08</th>\n",
       "      <td>2570</td>\n",
       "      <td>2569</td>\n",
       "      <td>-1</td>\n",
       "    </tr>\n",
       "    <tr>\n",
       "      <th>2020-10-25</th>\n",
       "      <td>3075</td>\n",
       "      <td>3073</td>\n",
       "      <td>-2</td>\n",
       "    </tr>\n",
       "    <tr>\n",
       "      <th>2021-03-03</th>\n",
       "      <td>7789</td>\n",
       "      <td>7759</td>\n",
       "      <td>-30</td>\n",
       "    </tr>\n",
       "    <tr>\n",
       "      <th>2021-04-10</th>\n",
       "      <td>11590</td>\n",
       "      <td>11580</td>\n",
       "      <td>-10</td>\n",
       "    </tr>\n",
       "    <tr>\n",
       "      <th>2021-06-03</th>\n",
       "      <td>16386</td>\n",
       "      <td>16486</td>\n",
       "      <td>100</td>\n",
       "    </tr>\n",
       "    <tr>\n",
       "      <th>2021-06-14</th>\n",
       "      <td>17500</td>\n",
       "      <td>17496</td>\n",
       "      <td>-4</td>\n",
       "    </tr>\n",
       "  </tbody>\n",
       "</table>\n",
       "</div>"
      ],
      "text/plain": [
       "            SOMA_DES_CON_INV  EXAMINADOS  DIFF_\n",
       "DATA                                           \n",
       "2020-09-08              2570        2569     -1\n",
       "2020-10-25              3075        3073     -2\n",
       "2021-03-03              7789        7759    -30\n",
       "2021-04-10             11590       11580    -10\n",
       "2021-06-03             16386       16486    100\n",
       "2021-06-14             17500       17496     -4"
      ]
     },
     "execution_count": 14,
     "metadata": {},
     "output_type": "execute_result"
    }
   ],
   "source": [
    "df = pd.DataFrame()\n",
    "\n",
    "df['SOMA_DES_CON_INV'] = frame['DESCARTADOS'] + frame['CONFIRMADOS'] + frame['EM INVESTIGACAO']\n",
    "df['EXAMINADOS'] = frame['EXAMINADOS']\n",
    "df['DIFF_'] = df['EXAMINADOS'] - df['SOMA_DES_CON_INV']\n",
    "\n",
    "df[~idx]\n"
   ]
  },
  {
   "cell_type": "code",
   "execution_count": 15,
   "metadata": {},
   "outputs": [
    {
     "data": {
      "text/plain": [
       "True"
      ]
     },
     "execution_count": 15,
     "metadata": {},
     "output_type": "execute_result"
    }
   ],
   "source": [
    "# Verifica se para os demais registro a diferença entre EXAMINADOS e SOMA_DES_CON_INV \n",
    "# é igual a zero\n",
    "all(df[idx]['DIFF_'] == 0)"
   ]
  },
  {
   "cell_type": "code",
   "execution_count": 16,
   "metadata": {},
   "outputs": [
    {
     "data": {
      "text/plain": [
       "False"
      ]
     },
     "execution_count": 16,
     "metadata": {},
     "output_type": "execute_result"
    }
   ],
   "source": [
    "# Verifica se o número de confirmados é igual a soma dos número de casos recuperados, do número de ativos no dia, e do número de óbitos.\n",
    "all(frame['CONFIRMADOS'] == frame['RECUPERADOS'] + frame['ATIVOS'] + frame['OBITOS'])"
   ]
  },
  {
   "cell_type": "code",
   "execution_count": 17,
   "metadata": {},
   "outputs": [
    {
     "data": {
      "text/html": [
       "<div>\n",
       "<style scoped>\n",
       "    .dataframe tbody tr th:only-of-type {\n",
       "        vertical-align: middle;\n",
       "    }\n",
       "\n",
       "    .dataframe tbody tr th {\n",
       "        vertical-align: top;\n",
       "    }\n",
       "\n",
       "    .dataframe thead th {\n",
       "        text-align: right;\n",
       "    }\n",
       "</style>\n",
       "<table border=\"1\" class=\"dataframe\">\n",
       "  <thead>\n",
       "    <tr style=\"text-align: right;\">\n",
       "      <th></th>\n",
       "      <th>SOMA_RE_AT_OB</th>\n",
       "      <th>CONFIRMADOS</th>\n",
       "    </tr>\n",
       "    <tr>\n",
       "      <th>DATA</th>\n",
       "      <th></th>\n",
       "      <th></th>\n",
       "    </tr>\n",
       "  </thead>\n",
       "  <tbody>\n",
       "    <tr>\n",
       "      <th>2020-07-04</th>\n",
       "      <td>112</td>\n",
       "      <td>109</td>\n",
       "    </tr>\n",
       "  </tbody>\n",
       "</table>\n",
       "</div>"
      ],
      "text/plain": [
       "            SOMA_RE_AT_OB  CONFIRMADOS\n",
       "DATA                                  \n",
       "2020-07-04            112          109"
      ]
     },
     "execution_count": 17,
     "metadata": {},
     "output_type": "execute_result"
    }
   ],
   "source": [
    "# Verifica-se que no dia 04/07/2020 essa afirmação não confere. \n",
    "# Levando em consideração que até a presente data o dataset possui 248 registros, \n",
    "# e a produção do boletim pode conter erros de digitação entre outros, \n",
    "# isso representa uma fração mínima da quantidade total de registros.\n",
    "\n",
    "idx = frame['CONFIRMADOS'] == frame['RECUPERADOS'] + frame['ATIVOS'] + frame['OBITOS']\n",
    "\n",
    "# frame[~idx]\n",
    "\n",
    "df = pd.DataFrame()\n",
    "\n",
    "df['SOMA_RE_AT_OB'] = frame['RECUPERADOS'] + frame['ATIVOS'] + frame['OBITOS']\n",
    "df['CONFIRMADOS'] = frame['CONFIRMADOS']\n",
    "\n",
    "df[~idx]"
   ]
  },
  {
   "cell_type": "code",
   "execution_count": 18,
   "metadata": {},
   "outputs": [
    {
     "data": {
      "text/plain": [
       "True"
      ]
     },
     "execution_count": 18,
     "metadata": {},
     "output_type": "execute_result"
    }
   ],
   "source": [
    "all(df['CONFIRMADOS'][idx] == df['SOMA_RE_AT_OB'][idx])"
   ]
  },
  {
   "cell_type": "code",
   "execution_count": 19,
   "metadata": {},
   "outputs": [
    {
     "data": {
      "text/html": [
       "<div>\n",
       "<style scoped>\n",
       "    .dataframe tbody tr th:only-of-type {\n",
       "        vertical-align: middle;\n",
       "    }\n",
       "\n",
       "    .dataframe tbody tr th {\n",
       "        vertical-align: top;\n",
       "    }\n",
       "\n",
       "    .dataframe thead th {\n",
       "        text-align: right;\n",
       "    }\n",
       "</style>\n",
       "<table border=\"1\" class=\"dataframe\">\n",
       "  <thead>\n",
       "    <tr style=\"text-align: right;\">\n",
       "      <th></th>\n",
       "      <th>RECUPERADOS</th>\n",
       "      <th>ATIVOS</th>\n",
       "      <th>OBITOS</th>\n",
       "      <th>CONFIRMADOS</th>\n",
       "    </tr>\n",
       "    <tr>\n",
       "      <th>DATA</th>\n",
       "      <th></th>\n",
       "      <th></th>\n",
       "      <th></th>\n",
       "      <th></th>\n",
       "    </tr>\n",
       "  </thead>\n",
       "  <tbody>\n",
       "    <tr>\n",
       "      <th>2020-07-04</th>\n",
       "      <td>65</td>\n",
       "      <td>43</td>\n",
       "      <td>4</td>\n",
       "      <td>109</td>\n",
       "    </tr>\n",
       "    <tr>\n",
       "      <th>2020-07-05</th>\n",
       "      <td>71</td>\n",
       "      <td>35</td>\n",
       "      <td>4</td>\n",
       "      <td>110</td>\n",
       "    </tr>\n",
       "    <tr>\n",
       "      <th>2020-07-06</th>\n",
       "      <td>79</td>\n",
       "      <td>38</td>\n",
       "      <td>4</td>\n",
       "      <td>121</td>\n",
       "    </tr>\n",
       "    <tr>\n",
       "      <th>2020-07-07</th>\n",
       "      <td>85</td>\n",
       "      <td>37</td>\n",
       "      <td>4</td>\n",
       "      <td>126</td>\n",
       "    </tr>\n",
       "    <tr>\n",
       "      <th>2020-07-08</th>\n",
       "      <td>93</td>\n",
       "      <td>42</td>\n",
       "      <td>4</td>\n",
       "      <td>139</td>\n",
       "    </tr>\n",
       "    <tr>\n",
       "      <th>2020-07-09</th>\n",
       "      <td>98</td>\n",
       "      <td>38</td>\n",
       "      <td>4</td>\n",
       "      <td>140</td>\n",
       "    </tr>\n",
       "    <tr>\n",
       "      <th>2020-07-10</th>\n",
       "      <td>101</td>\n",
       "      <td>40</td>\n",
       "      <td>4</td>\n",
       "      <td>145</td>\n",
       "    </tr>\n",
       "  </tbody>\n",
       "</table>\n",
       "</div>"
      ],
      "text/plain": [
       "            RECUPERADOS  ATIVOS  OBITOS  CONFIRMADOS\n",
       "DATA                                                \n",
       "2020-07-04           65      43       4          109\n",
       "2020-07-05           71      35       4          110\n",
       "2020-07-06           79      38       4          121\n",
       "2020-07-07           85      37       4          126\n",
       "2020-07-08           93      42       4          139\n",
       "2020-07-09           98      38       4          140\n",
       "2020-07-10          101      40       4          145"
      ]
     },
     "execution_count": 19,
     "metadata": {},
     "output_type": "execute_result"
    }
   ],
   "source": [
    "frame.loc['07/04/2020':'07/10/2020'][['RECUPERADOS', 'ATIVOS', 'OBITOS', 'CONFIRMADOS']]"
   ]
  },
  {
   "cell_type": "markdown",
   "metadata": {},
   "source": [
    "Os atributos cumulativos devem ser crescentes (igual ou superior ao dia anterior).\n",
    "\n",
    "Os atributos acumulativos são:\n",
    "\n",
    "    DESCARTADOS\n",
    "    CONFIRMADOS\n",
    "    EXAMINADOS\n",
    "    RECUPERADOS\n",
    "    OBITOS"
   ]
  },
  {
   "cell_type": "markdown",
   "metadata": {},
   "source": [
    "Verifica-se abaixo se esses atributos são crescentes (o dia posterior possui valor igual ou superior ao dia anterior)"
   ]
  },
  {
   "cell_type": "code",
   "execution_count": 20,
   "metadata": {},
   "outputs": [
    {
     "data": {
      "text/plain": [
       "False"
      ]
     },
     "execution_count": 20,
     "metadata": {},
     "output_type": "execute_result"
    }
   ],
   "source": [
    "frame[\"DESCARTADOS\"].is_monotonic"
   ]
  },
  {
   "cell_type": "code",
   "execution_count": 21,
   "metadata": {},
   "outputs": [
    {
     "data": {
      "text/plain": [
       "False"
      ]
     },
     "execution_count": 21,
     "metadata": {},
     "output_type": "execute_result"
    }
   ],
   "source": [
    "frame['EXAMINADOS'].is_monotonic"
   ]
  },
  {
   "cell_type": "code",
   "execution_count": 22,
   "metadata": {},
   "outputs": [
    {
     "data": {
      "text/plain": [
       "True"
      ]
     },
     "execution_count": 22,
     "metadata": {},
     "output_type": "execute_result"
    }
   ],
   "source": [
    "frame['CONFIRMADOS'].is_monotonic"
   ]
  },
  {
   "cell_type": "code",
   "execution_count": 23,
   "metadata": {},
   "outputs": [
    {
     "data": {
      "text/plain": [
       "True"
      ]
     },
     "execution_count": 23,
     "metadata": {},
     "output_type": "execute_result"
    }
   ],
   "source": [
    "frame[\"RECUPERADOS\"].is_monotonic"
   ]
  },
  {
   "cell_type": "code",
   "execution_count": 24,
   "metadata": {},
   "outputs": [
    {
     "data": {
      "text/plain": [
       "True"
      ]
     },
     "execution_count": 24,
     "metadata": {},
     "output_type": "execute_result"
    }
   ],
   "source": [
    "frame['OBITOS'].is_monotonic"
   ]
  }
 ],
 "metadata": {
  "kernelspec": {
   "display_name": "Python 3",
   "language": "python",
   "name": "python3"
  },
  "language_info": {
   "codemirror_mode": {
    "name": "ipython",
    "version": 3
   },
   "file_extension": ".py",
   "mimetype": "text/x-python",
   "name": "python",
   "nbconvert_exporter": "python",
   "pygments_lexer": "ipython3",
   "version": "3.7.3"
  }
 },
 "nbformat": 4,
 "nbformat_minor": 4
}
